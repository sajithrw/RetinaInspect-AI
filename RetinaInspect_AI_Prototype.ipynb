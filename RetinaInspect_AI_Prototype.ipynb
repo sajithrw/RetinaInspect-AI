{
  "nbformat": 4,
  "nbformat_minor": 0,
  "metadata": {
    "colab": {
      "provenance": [],
      "mount_file_id": "https://github.com/sajithrw/RetinaInspect-AI/blob/develop/RetinaInspect_AI_Prototype.ipynb",
      "authorship_tag": "ABX9TyNJe0bssOplmyKH3ar+1hgZ",
      "include_colab_link": true
    },
    "kernelspec": {
      "name": "python3",
      "display_name": "Python 3"
    },
    "language_info": {
      "name": "python"
    }
  },
  "cells": [
    {
      "cell_type": "markdown",
      "metadata": {
        "id": "view-in-github",
        "colab_type": "text"
      },
      "source": [
        "<a href=\"https://colab.research.google.com/github/sajithrw/RetinaInspect-AI/blob/develop/RetinaInspect_AI_Prototype.ipynb\" target=\"_parent\"><img src=\"https://colab.research.google.com/assets/colab-badge.svg\" alt=\"Open In Colab\"/></a>"
      ]
    },
    {
      "cell_type": "markdown",
      "source": [
        "**DataSet**\n",
        "\n",
        "Using dataset *Diabetic Retinopathy 2015 Data Colored Resized* from kaggle.com. These images are resized into 224x224 pixels so that they can be readily used with many pre-trained deep learning models.\n",
        "\n",
        "All of the images are already saved into their respective folders according to the severity/stage of diabetic retinopathy using the train.csv file provided. You will find five directories with the respective images:\n",
        "\n",
        "0 - No_DR\\\n",
        "1 - Mild\\\n",
        "2 - Moderate\\\n",
        "3 - Severe\\\n",
        "4 - Proliferate_DR\n",
        "\n",
        "The trainLabels.csv contains all the image ids and their corresponding severity."
      ],
      "metadata": {
        "id": "ZKnR-Tc7C7q-"
      }
    },
    {
      "cell_type": "code",
      "source": [
        "import tensorflow as tf\n",
        "print(tf.__version__)"
      ],
      "metadata": {
        "id": "_g7ijWjMIU_N",
        "outputId": "43ba852f-1e7e-4293-f140-2e88f8181282",
        "colab": {
          "base_uri": "https://localhost:8080/"
        }
      },
      "execution_count": 2,
      "outputs": [
        {
          "output_type": "stream",
          "name": "stdout",
          "text": [
            "2.13.0\n"
          ]
        }
      ]
    }
  ]
}