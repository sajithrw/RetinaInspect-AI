{
  "nbformat": 4,
  "nbformat_minor": 0,
  "metadata": {
    "colab": {
      "provenance": [],
      "authorship_tag": "ABX9TyOpg/z0Br+FHrt+pMta6YNH",
      "include_colab_link": true
    },
    "kernelspec": {
      "name": "python3",
      "display_name": "Python 3"
    },
    "language_info": {
      "name": "python"
    }
  },
  "cells": [
    {
      "cell_type": "markdown",
      "metadata": {
        "id": "view-in-github",
        "colab_type": "text"
      },
      "source": [
        "<a href=\"https://colab.research.google.com/github/sajithrw/RetinaInspect-AI/blob/develop/RetinaInspect_AI_Prototype.ipynb\" target=\"_parent\"><img src=\"https://colab.research.google.com/assets/colab-badge.svg\" alt=\"Open In Colab\"/></a>"
      ]
    },
    {
      "cell_type": "markdown",
      "source": [
        "**DataSet**\n",
        "\n",
        "Using dataset *Diabetic Retinopathy 2015 Data Colored Resized* from kaggle.com. These images are resized into 224x224 pixels so that they can be readily used with many pre-trained deep learning models.\n",
        "\n",
        "All of the images are already saved into their respective folders according to the severity/stage of diabetic retinopathy using the train.csv file provided. You will find five directories with the respective images:\n",
        "\n",
        "0 - No_DR\\\n",
        "1 - Mild\\\n",
        "2 - Moderate\\\n",
        "3 - Severe\\\n",
        "4 - Proliferate_DR\n",
        "\n",
        "The trainLabels.csv contains all the image ids and their corresponding severity."
      ],
      "metadata": {
        "id": "ZKnR-Tc7C7q-"
      }
    }
  ]
}