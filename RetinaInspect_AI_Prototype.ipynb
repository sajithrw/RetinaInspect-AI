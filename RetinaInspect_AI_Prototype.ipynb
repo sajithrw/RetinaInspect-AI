{
  "nbformat": 4,
  "nbformat_minor": 0,
  "metadata": {
    "colab": {
      "provenance": [],
      "gpuType": "T4",
      "mount_file_id": "https://github.com/sajithrw/RetinaInspect-AI/blob/develop/RetinaInspect_AI_Prototype.ipynb",
      "authorship_tag": "ABX9TyMCTTBy4YAWgkY//0YLazmA",
      "include_colab_link": true
    },
    "kernelspec": {
      "name": "python3",
      "display_name": "Python 3"
    },
    "language_info": {
      "name": "python"
    },
    "accelerator": "GPU"
  },
  "cells": [
    {
      "cell_type": "markdown",
      "metadata": {
        "id": "view-in-github",
        "colab_type": "text"
      },
      "source": [
        "<a href=\"https://colab.research.google.com/github/sajithrw/RetinaInspect-AI/blob/develop/RetinaInspect_AI_Prototype.ipynb\" target=\"_parent\"><img src=\"https://colab.research.google.com/assets/colab-badge.svg\" alt=\"Open In Colab\"/></a>"
      ]
    },
    {
      "cell_type": "markdown",
      "source": [
        "**DataSet**\n",
        "\n",
        "Using dataset *Diabetic Retinopathy 2015 Data Colored Resized* from kaggle.com. These images are resized into 224x224 pixels so that they can be readily used with many pre-trained deep learning models.\n",
        "\n",
        "All of the images are already saved into their respective folders according to the severity/stage of diabetic retinopathy.\n",
        "\n",
        "**Below are image classes:**\n",
        "*   No_DR\n",
        "*   Mild\n",
        "*   Moderate\n",
        "*   Severe\n",
        "*   Proliferate_DR\n",
        "\n",
        "All the parameters of ````ImageDataGenerator```` uses default values to avoid preprocessing of images as they are already processed.\n",
        "\n",
        "All the images are uploaded to ````RetinaInspect-AI```` folder in Google drive."
      ],
      "metadata": {
        "id": "ZKnR-Tc7C7q-"
      }
    },
    {
      "cell_type": "code",
      "source": [
        "from tensorflow.keras.preprocessing.image import ImageDataGenerator\n",
        "\n",
        "# specify the directory containing the labeled subdirectories\n",
        "image_directory = '/content/drive/MyDrive/RetinaInspect-AI/'\n",
        "\n",
        "# data augmentation and normalization\n",
        "datagen = ImageDataGenerator(\n",
        "    rescale=1.0/255.0,\n",
        "    rotation_range=0,\n",
        "    width_shift_range=0,\n",
        "    height_shift_range=0,\n",
        "    shear_range=0,\n",
        "    zoom_range=0,\n",
        "    horizontal_flip=False,\n",
        "    fill_mode='nearest'\n",
        ")\n",
        "\n",
        "batch_size = 32\n",
        "train_generator = datagen.flow_from_directory(\n",
        "    image_directory,\n",
        "    target_size=(224, 224),\n",
        "    batch_size=batch_size,\n",
        "    class_mode='categorical'\n",
        ")"
      ],
      "metadata": {
        "id": "_g7ijWjMIU_N",
        "outputId": "0a3761f9-8ce9-4402-eca9-6f46c02a5f98",
        "colab": {
          "base_uri": "https://localhost:8080/"
        }
      },
      "execution_count": 1,
      "outputs": [
        {
          "output_type": "stream",
          "name": "stdout",
          "text": [
            "Found 9316 images belonging to 5 classes.\n"
          ]
        }
      ]
    },
    {
      "cell_type": "markdown",
      "source": [
        "**Model VGG16**\n",
        "\n",
        "Load pre-trained VGG16 models and fine-tune it for identification ot Diabetic Retinopathy.\n",
        "\n",
        "Uses ````Adam```` optimizer to train the model. Finally saves the model after training as ````DR_detection_model.h5````."
      ],
      "metadata": {
        "id": "RwW-p9h9BGAj"
      }
    },
    {
      "cell_type": "code",
      "source": [
        "from tensorflow.keras.applications import VGG16\n",
        "from tensorflow.keras.models import Model\n",
        "from tensorflow.keras.layers import Dense, GlobalAveragePooling2D\n",
        "from tensorflow.keras.optimizers import Adam\n",
        "\n",
        "base_model = VGG16(weights='imagenet', include_top=False)\n",
        "\n",
        "# custome layers for classification task\n",
        "layer = base_model.output\n",
        "layer = GlobalAveragePooling2D()(layer)\n",
        "layer = Dense(1024, activation='relu')(layer)\n",
        "predictions = Dense(5, activation='softmax')(layer) #5 classes for DR levels\n",
        "\n",
        "# compile and train model with dataset\n",
        "model = Model(inputs=base_model.input, outputs=predictions)\n",
        "model.compile(optimizer=Adam(learning_rate=0.0001), loss='categorical_crossentropy', metrics=['accuracy'])\n",
        "\n",
        "num_epochs = 10\n",
        "model.fit(train_generator, epochs=num_epochs)\n",
        "\n",
        "# save trained model\n",
        "model.save('DR_detection_model.h5')"
      ],
      "metadata": {
        "id": "quf9GFxgCsq9",
        "outputId": "80e7f151-2085-426d-d1a2-3edff6663a10",
        "colab": {
          "base_uri": "https://localhost:8080/"
        }
      },
      "execution_count": 2,
      "outputs": [
        {
          "output_type": "stream",
          "name": "stdout",
          "text": [
            "Downloading data from https://storage.googleapis.com/tensorflow/keras-applications/vgg16/vgg16_weights_tf_dim_ordering_tf_kernels_notop.h5\n",
            "58889256/58889256 [==============================] - 4s 0us/step\n",
            "Epoch 1/10\n",
            "292/292 [==============================] - 6510s 22s/step - loss: 1.0362 - accuracy: 0.5676\n",
            "Epoch 2/10\n",
            "292/292 [==============================] - 121s 414ms/step - loss: 0.9185 - accuracy: 0.5968\n",
            "Epoch 3/10\n",
            "292/292 [==============================] - 120s 412ms/step - loss: 0.8617 - accuracy: 0.6126\n",
            "Epoch 4/10\n",
            "292/292 [==============================] - 120s 410ms/step - loss: 0.8266 - accuracy: 0.6329\n",
            "Epoch 5/10\n",
            "292/292 [==============================] - 120s 410ms/step - loss: 0.7793 - accuracy: 0.6593\n",
            "Epoch 6/10\n",
            "292/292 [==============================] - 120s 412ms/step - loss: 0.7438 - accuracy: 0.6816\n",
            "Epoch 7/10\n",
            "292/292 [==============================] - 120s 411ms/step - loss: 0.7110 - accuracy: 0.6927\n",
            "Epoch 8/10\n",
            "292/292 [==============================] - 120s 411ms/step - loss: 0.6760 - accuracy: 0.7129\n",
            "Epoch 9/10\n",
            "292/292 [==============================] - 120s 411ms/step - loss: 0.6132 - accuracy: 0.7466\n",
            "Epoch 10/10\n",
            "292/292 [==============================] - 120s 410ms/step - loss: 0.5644 - accuracy: 0.7684\n"
          ]
        },
        {
          "output_type": "stream",
          "name": "stderr",
          "text": [
            "/usr/local/lib/python3.10/dist-packages/keras/src/engine/training.py:3000: UserWarning: You are saving your model as an HDF5 file via `model.save()`. This file format is considered legacy. We recommend using instead the native Keras format, e.g. `model.save('my_model.keras')`.\n",
            "  saving_api.save_model(\n"
          ]
        }
      ]
    }
  ]
}