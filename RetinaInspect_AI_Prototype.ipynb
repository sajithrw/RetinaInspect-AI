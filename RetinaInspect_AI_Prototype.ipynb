{
  "nbformat": 4,
  "nbformat_minor": 0,
  "metadata": {
    "colab": {
      "provenance": [],
      "mount_file_id": "https://github.com/sajithrw/RetinaInspect-AI/blob/develop/RetinaInspect_AI_Prototype.ipynb",
      "authorship_tag": "ABX9TyMCTTBy4YAWgkY//0YLazmA",
      "include_colab_link": true
    },
    "kernelspec": {
      "name": "python3",
      "display_name": "Python 3"
    },
    "language_info": {
      "name": "python"
    }
  },
  "cells": [
    {
      "cell_type": "markdown",
      "metadata": {
        "id": "view-in-github",
        "colab_type": "text"
      },
      "source": [
        "<a href=\"https://colab.research.google.com/github/sajithrw/RetinaInspect-AI/blob/develop/RetinaInspect_AI_Prototype.ipynb\" target=\"_parent\"><img src=\"https://colab.research.google.com/assets/colab-badge.svg\" alt=\"Open In Colab\"/></a>"
      ]
    },
    {
      "cell_type": "markdown",
      "source": [
        "**DataSet**\n",
        "\n",
        "Using dataset *Diabetic Retinopathy 2015 Data Colored Resized* from kaggle.com. These images are resized into 224x224 pixels so that they can be readily used with many pre-trained deep learning models.\n",
        "\n",
        "All of the images are already saved into their respective folders according to the severity/stage of diabetic retinopathy.\n",
        "\n",
        "**Below are image classes:**\n",
        "*   No_DR\n",
        "*   Mild\n",
        "*   Moderate\n",
        "*   Severe\n",
        "*   Proliferate_DR\n",
        "\n",
        "All the parameters of ````ImageDataGenerator```` uses default values to avoid preprocessing of images as they are already processed.\n",
        "\n",
        "All the images are uploaded to ````RetinaInspect-AI```` folder in Google drive."
      ],
      "metadata": {
        "id": "ZKnR-Tc7C7q-"
      }
    },
    {
      "cell_type": "code",
      "source": [
        "from tensorflow.keras.preprocessing.image import ImageDataGenerator\n",
        "\n",
        "# specify the directory containing the labeled subdirectories\n",
        "image_directory = '/content/drive/MyDrive/RetinaInspect-AI/'\n",
        "\n",
        "# data augmentation and normalization\n",
        "datagen = ImageDataGenerator(\n",
        "    rescale=1.0/255.0,\n",
        "    rotation_range=0,\n",
        "    width_shift_range=0,\n",
        "    height_shift_range=0,\n",
        "    shear_range=0,\n",
        "    zoom_range=0,\n",
        "    horizontal_flip=False,\n",
        "    fill_mode='nearest'\n",
        ")\n",
        "\n",
        "batch_size = 32\n",
        "train_generator = datagen.flow_from_directory(\n",
        "    image_directory,\n",
        "    target_size=(224, 224),\n",
        "    batch_size=batch_size,\n",
        "    class_mode='categorical'\n",
        ")"
      ],
      "metadata": {
        "id": "_g7ijWjMIU_N"
      },
      "execution_count": null,
      "outputs": []
    },
    {
      "cell_type": "markdown",
      "source": [
        "**Model VGG16**\n",
        "\n",
        "Load pre-trained VGG16 models and fine-tune it for identification ot Diabetic Retinopathy.\n",
        "\n",
        "Uses ````Adam```` optimizer to train the model. Finally saves the model after training as ````DR_detection_model.h5````."
      ],
      "metadata": {
        "id": "RwW-p9h9BGAj"
      }
    },
    {
      "cell_type": "code",
      "source": [
        "from tensorflow.keras.applications import VGG16\n",
        "from tensorflow.keras.models import Model\n",
        "from tensorflow.keras.layers import Dense, GlobalAveragePooling2D\n",
        "from tensorflow.keras.optimizers import Adam\n",
        "\n",
        "base_model = VGG16(weights='imagenet', include_top=False)\n",
        "\n",
        "# custome layers for classification task\n",
        "layer = base_model.output\n",
        "layer = GlobalAveragePooling2D()(layer)\n",
        "layer = Dense(1024, activation='relu')(layer)\n",
        "predictions = Dense(5, activation='softmax')(layer) #5 classes for DR levels\n",
        "\n",
        "# compile and train model with dataset\n",
        "model = Model(inputs=base_model.input, outputs=predictions)\n",
        "model.compile(optimizer=Adam(learning_rate=0.0001), loss='categorical_crossentropy', metrics=['accuracy'])\n",
        "\n",
        "num_epochs = 10\n",
        "model.fit(train_generator, epochs=num_epochs)\n",
        "\n",
        "# save trained model\n",
        "model.save('DR_detection_model.h5')"
      ],
      "metadata": {
        "id": "quf9GFxgCsq9",
        "outputId": "a7f7f1ce-8554-4006-e6c8-90f67a0d06bc",
        "colab": {
          "base_uri": "https://localhost:8080/",
          "height": 280
        }
      },
      "execution_count": 1,
      "outputs": [
        {
          "output_type": "stream",
          "name": "stdout",
          "text": [
            "Downloading data from https://storage.googleapis.com/tensorflow/keras-applications/vgg16/vgg16_weights_tf_dim_ordering_tf_kernels_notop.h5\n",
            "58889256/58889256 [==============================] - 2s 0us/step\n"
          ]
        },
        {
          "output_type": "error",
          "ename": "NameError",
          "evalue": "ignored",
          "traceback": [
            "\u001b[0;31m---------------------------------------------------------------------------\u001b[0m",
            "\u001b[0;31mNameError\u001b[0m                                 Traceback (most recent call last)",
            "\u001b[0;32m<ipython-input-1-f1dc00667b28>\u001b[0m in \u001b[0;36m<cell line: 19>\u001b[0;34m()\u001b[0m\n\u001b[1;32m     17\u001b[0m \u001b[0;34m\u001b[0m\u001b[0m\n\u001b[1;32m     18\u001b[0m \u001b[0mnum_epochs\u001b[0m \u001b[0;34m=\u001b[0m \u001b[0;36m10\u001b[0m\u001b[0;34m\u001b[0m\u001b[0;34m\u001b[0m\u001b[0m\n\u001b[0;32m---> 19\u001b[0;31m \u001b[0mmodel\u001b[0m\u001b[0;34m.\u001b[0m\u001b[0mfit\u001b[0m\u001b[0;34m(\u001b[0m\u001b[0mtrain_generator\u001b[0m\u001b[0;34m,\u001b[0m \u001b[0mepochs\u001b[0m\u001b[0;34m=\u001b[0m\u001b[0mnum_epochs\u001b[0m\u001b[0;34m)\u001b[0m\u001b[0;34m\u001b[0m\u001b[0;34m\u001b[0m\u001b[0m\n\u001b[0m\u001b[1;32m     20\u001b[0m \u001b[0;34m\u001b[0m\u001b[0m\n\u001b[1;32m     21\u001b[0m \u001b[0;31m# save trained model\u001b[0m\u001b[0;34m\u001b[0m\u001b[0;34m\u001b[0m\u001b[0m\n",
            "\u001b[0;31mNameError\u001b[0m: name 'train_generator' is not defined"
          ]
        }
      ]
    }
  ]
}